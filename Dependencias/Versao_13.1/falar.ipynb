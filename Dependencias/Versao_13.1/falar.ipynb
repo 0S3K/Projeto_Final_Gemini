{
 "cells": [
  {
   "cell_type": "markdown",
   "metadata": {},
   "source": [
    "INSTALAR E IMPORTAR BIBLIOTECA PARA TRANSFORMAR TEXTO EM AUDIO"
   ]
  },
  {
   "cell_type": "code",
   "execution_count": 1,
   "metadata": {},
   "outputs": [
    {
     "name": "stdout",
     "output_type": "stream",
     "text": [
      "Requirement already satisfied: pyttsx3 in c:\\users\\pmgtec\\appdata\\local\\packages\\pythonsoftwarefoundation.python.3.11_qbz5n2kfra8p0\\localcache\\local-packages\\python311\\site-packages (2.90)\n",
      "Requirement already satisfied: comtypes in c:\\users\\pmgtec\\appdata\\local\\packages\\pythonsoftwarefoundation.python.3.11_qbz5n2kfra8p0\\localcache\\local-packages\\python311\\site-packages (from pyttsx3) (1.4.2)\n",
      "Requirement already satisfied: pypiwin32 in c:\\users\\pmgtec\\appdata\\local\\packages\\pythonsoftwarefoundation.python.3.11_qbz5n2kfra8p0\\localcache\\local-packages\\python311\\site-packages (from pyttsx3) (223)\n",
      "Requirement already satisfied: pywin32 in c:\\users\\pmgtec\\appdata\\local\\packages\\pythonsoftwarefoundation.python.3.11_qbz5n2kfra8p0\\localcache\\local-packages\\python311\\site-packages (from pyttsx3) (306)\n",
      "Note: you may need to restart the kernel to use updated packages.\n"
     ]
    }
   ],
   "source": [
    "%pip install pyttsx3"
   ]
  },
  {
   "cell_type": "code",
   "execution_count": 2,
   "metadata": {},
   "outputs": [],
   "source": [
    "import pyttsx3"
   ]
  },
  {
   "cell_type": "markdown",
   "metadata": {},
   "source": []
  },
  {
   "cell_type": "code",
   "execution_count": 3,
   "metadata": {},
   "outputs": [
    {
     "name": "stdout",
     "output_type": "stream",
     "text": [
      "<Voice id=HKEY_LOCAL_MACHINE\\SOFTWARE\\Microsoft\\Speech\\Voices\\Tokens\\TTS_MS_PT-BR_MARIA_11.0\n",
      "          name=Microsoft Maria Desktop - Portuguese(Brazil)\n",
      "          languages=[]\n",
      "          gender=None\n",
      "          age=None> HKEY_LOCAL_MACHINE\\SOFTWARE\\Microsoft\\Speech\\Voices\\Tokens\\TTS_MS_PT-BR_MARIA_11.0\n",
      "<Voice id=HKEY_LOCAL_MACHINE\\SOFTWARE\\Microsoft\\Speech\\Voices\\Tokens\\TTS_MS_EN-US_ZIRA_11.0\n",
      "          name=Microsoft Zira Desktop - English (United States)\n",
      "          languages=[]\n",
      "          gender=None\n",
      "          age=None> HKEY_LOCAL_MACHINE\\SOFTWARE\\Microsoft\\Speech\\Voices\\Tokens\\TTS_MS_EN-US_ZIRA_11.0\n"
     ]
    }
   ],
   "source": [
    "texto = 'exxqueceeeeeeeeeeeeeeeeeeeeeeeeeeeeeii que você é guei'\n",
    "\n",
    "speaker = pyttsx3.init()\n",
    "\n",
    "voices = speaker.getProperty('voices')\n",
    "\n",
    "for voice in voices:\n",
    "    print(voice,voice.id)\n",
    "\n",
    "speaker.setProperty('voice',voices[0].id)\n",
    "rate = speaker.getProperty('rate')\n",
    "speaker.setProperty('rate', 250)\n",
    "\n",
    "speaker.say(texto)\n",
    "speaker.runAndWait()"
   ]
  }
 ],
 "metadata": {
  "kernelspec": {
   "display_name": "Python 3",
   "language": "python",
   "name": "python3"
  },
  "language_info": {
   "codemirror_mode": {
    "name": "ipython",
    "version": 3
   },
   "file_extension": ".py",
   "mimetype": "text/x-python",
   "name": "python",
   "nbconvert_exporter": "python",
   "pygments_lexer": "ipython3",
   "version": "3.11.9"
  }
 },
 "nbformat": 4,
 "nbformat_minor": 2
}
