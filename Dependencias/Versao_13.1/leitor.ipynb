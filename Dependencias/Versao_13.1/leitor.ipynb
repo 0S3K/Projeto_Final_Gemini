{
 "cells": [
  {
   "cell_type": "markdown",
   "metadata": {},
   "source": [
    "INSTALAR E IMPORTAR AS BIBLIOTECAS"
   ]
  },
  {
   "cell_type": "code",
   "execution_count": 6,
   "metadata": {},
   "outputs": [
    {
     "name": "stdout",
     "output_type": "stream",
     "text": [
      "Requirement already satisfied: SpeechRecognition in c:\\users\\pmgtec\\appdata\\local\\packages\\pythonsoftwarefoundation.python.3.11_qbz5n2kfra8p0\\localcache\\local-packages\\python311\\site-packages (3.10.4)\n",
      "Requirement already satisfied: requests>=2.26.0 in c:\\users\\pmgtec\\appdata\\local\\packages\\pythonsoftwarefoundation.python.3.11_qbz5n2kfra8p0\\localcache\\local-packages\\python311\\site-packages (from SpeechRecognition) (2.31.0)\n",
      "Requirement already satisfied: typing-extensions in c:\\users\\pmgtec\\appdata\\local\\packages\\pythonsoftwarefoundation.python.3.11_qbz5n2kfra8p0\\localcache\\local-packages\\python311\\site-packages (from SpeechRecognition) (4.11.0)\n",
      "Requirement already satisfied: charset-normalizer<4,>=2 in c:\\users\\pmgtec\\appdata\\local\\packages\\pythonsoftwarefoundation.python.3.11_qbz5n2kfra8p0\\localcache\\local-packages\\python311\\site-packages (from requests>=2.26.0->SpeechRecognition) (3.3.2)\n",
      "Requirement already satisfied: idna<4,>=2.5 in c:\\users\\pmgtec\\appdata\\local\\packages\\pythonsoftwarefoundation.python.3.11_qbz5n2kfra8p0\\localcache\\local-packages\\python311\\site-packages (from requests>=2.26.0->SpeechRecognition) (3.7)\n",
      "Requirement already satisfied: urllib3<3,>=1.21.1 in c:\\users\\pmgtec\\appdata\\local\\packages\\pythonsoftwarefoundation.python.3.11_qbz5n2kfra8p0\\localcache\\local-packages\\python311\\site-packages (from requests>=2.26.0->SpeechRecognition) (2.2.1)\n",
      "Requirement already satisfied: certifi>=2017.4.17 in c:\\users\\pmgtec\\appdata\\local\\packages\\pythonsoftwarefoundation.python.3.11_qbz5n2kfra8p0\\localcache\\local-packages\\python311\\site-packages (from requests>=2.26.0->SpeechRecognition) (2024.2.2)\n",
      "Note: you may need to restart the kernel to use updated packages.\n",
      "Requirement already satisfied: PyAudio in c:\\users\\pmgtec\\appdata\\local\\packages\\pythonsoftwarefoundation.python.3.11_qbz5n2kfra8p0\\localcache\\local-packages\\python311\\site-packages (0.2.14)\n",
      "Note: you may need to restart the kernel to use updated packages.\n"
     ]
    }
   ],
   "source": [
    "%pip install SpeechRecognition\n",
    "%pip install PyAudio"
   ]
  },
  {
   "cell_type": "code",
   "execution_count": 2,
   "metadata": {},
   "outputs": [],
   "source": [
    "import speech_recognition as sr"
   ]
  },
  {
   "cell_type": "code",
   "execution_count": 3,
   "metadata": {},
   "outputs": [
    {
     "name": "stdout",
     "output_type": "stream",
     "text": [
      "['Mapeador de som da Microsoft - Input', 'FrontMic (Realtek(R) Audio)', 'Mapeador de som da Microsoft - Output', 'Alto-falantes (Realtek(R) Audio', '22BN550Y (2- HD Audio Driver fo', 'Driver de captura de som primÃ¡rio', 'FrontMic (Realtek(R) Audio)', 'Driver de som primÃ¡rio', 'Alto-falantes (Realtek(R) Audio)', '22BN550Y (2- HD Audio Driver for Display Audio)', 'Alto-falantes (Realtek(R) Audio)', '22BN550Y (2- HD Audio Driver for Display Audio)', 'FrontMic (Realtek(R) Audio)', 'Mixagem estÃ©reo (Realtek HD Audio Stereo input)', 'Speakers (Realtek HD Audio output)', 'FrontMic (Realtek HD Audio Front Mic input)', '22BN550Y (ACX HD Audio Speaker)']\n"
     ]
    }
   ],
   "source": [
    "print(sr.Microphone().list_microphone_names())"
   ]
  },
  {
   "cell_type": "code",
   "execution_count": 4,
   "metadata": {},
   "outputs": [
    {
     "name": "stdout",
     "output_type": "stream",
     "text": [
      "Começe a falar para o Python gravar\n",
      "O que você falou:  som som teste\n"
     ]
    }
   ],
   "source": [
    "rec = sr.Recognizer()\n",
    "\n",
    "texto = ''\n",
    "with sr.Microphone(1) as mic:\n",
    "    rec.adjust_for_ambient_noise(mic)\n",
    "    print(\"Começe a falar para o Python gravar\")\n",
    "    audio = rec.listen(mic)\n",
    "    texto = rec.recognize_google(audio,language='pt-BR')\n",
    "\n",
    "print('O que você falou: ', texto)\n"
   ]
  }
 ],
 "metadata": {
  "kernelspec": {
   "display_name": "Python 3",
   "language": "python",
   "name": "python3"
  },
  "language_info": {
   "codemirror_mode": {
    "name": "ipython",
    "version": 3
   },
   "file_extension": ".py",
   "mimetype": "text/x-python",
   "name": "python",
   "nbconvert_exporter": "python",
   "pygments_lexer": "ipython3",
   "version": "3.11.9"
  }
 },
 "nbformat": 4,
 "nbformat_minor": 2
}
